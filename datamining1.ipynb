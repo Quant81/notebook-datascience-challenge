{
 "cells": [
  {
   "cell_type": "code",
   "execution_count": 21,
   "metadata": {},
   "outputs": [],
   "source": [
    "import pandas as pd\n",
    "import codecs\n",
    "\n",
    "\n",
    "with codecs.open(\"datasetrefahi/Sample2Percent_140105.csv\", 'r', encoding='utf-8',\n",
    "                 errors='ignore') as fdata:\n",
    "                data = pd.read_csv(fdata)"
   ]
  },
  {
   "cell_type": "code",
   "execution_count": 22,
   "metadata": {},
   "outputs": [
    {
     "data": {
      "text/html": [
       "<div>\n",
       "<style scoped>\n",
       "    .dataframe tbody tr th:only-of-type {\n",
       "        vertical-align: middle;\n",
       "    }\n",
       "\n",
       "    .dataframe tbody tr th {\n",
       "        vertical-align: top;\n",
       "    }\n",
       "\n",
       "    .dataframe thead th {\n",
       "        text-align: right;\n",
       "    }\n",
       "</style>\n",
       "<table border=\"1\" class=\"dataframe\">\n",
       "  <thead>\n",
       "    <tr style=\"text-align: right;\">\n",
       "      <th></th>\n",
       "      <th>ID</th>\n",
       "      <th>Parentid</th>\n",
       "      <th>genderid</th>\n",
       "      <th>birthdate</th>\n",
       "      <th>Familysize</th>\n",
       "      <th>AmCrdtr_95</th>\n",
       "      <th>Amdbtr_95</th>\n",
       "      <th>frstPrd_95</th>\n",
       "      <th>lstPrd_95</th>\n",
       "      <th>SmBnft_95</th>\n",
       "      <th>...</th>\n",
       "      <th>IsBimePardaz_Sandoghha</th>\n",
       "      <th>IsBazneshaste_Sandoghha</th>\n",
       "      <th>ISMaliati_Shaghel_1399</th>\n",
       "      <th>Daramad_Total_Rials</th>\n",
       "      <th>HasBimeDarman</th>\n",
       "      <th>ISBimarKhas</th>\n",
       "      <th>IsMalool</th>\n",
       "      <th>Postalcode_7Digit</th>\n",
       "      <th>Ostan</th>\n",
       "      <th>Shahrestan</th>\n",
       "    </tr>\n",
       "  </thead>\n",
       "  <tbody>\n",
       "    <tr>\n",
       "      <th>0</th>\n",
       "      <td>6935414289</td>\n",
       "      <td>624876816764</td>\n",
       "      <td>2.0</td>\n",
       "      <td>1990-07-29</td>\n",
       "      <td>5</td>\n",
       "      <td>2500000</td>\n",
       "      <td>2500000</td>\n",
       "      <td>2500000</td>\n",
       "      <td>2500000</td>\n",
       "      <td>2500000</td>\n",
       "      <td>...</td>\n",
       "      <td>0</td>\n",
       "      <td>0</td>\n",
       "      <td>0</td>\n",
       "      <td>0</td>\n",
       "      <td>1</td>\n",
       "      <td>0</td>\n",
       "      <td>0</td>\n",
       "      <td>1765655.0</td>\n",
       "      <td>NaN</td>\n",
       "      <td>NaN</td>\n",
       "    </tr>\n",
       "    <tr>\n",
       "      <th>1</th>\n",
       "      <td>18872613557</td>\n",
       "      <td>18872613557</td>\n",
       "      <td>1.0</td>\n",
       "      <td>1990-08-11</td>\n",
       "      <td>2</td>\n",
       "      <td>65000000</td>\n",
       "      <td>62500000</td>\n",
       "      <td>5000000</td>\n",
       "      <td>5000000</td>\n",
       "      <td>2500000</td>\n",
       "      <td>...</td>\n",
       "      <td>1</td>\n",
       "      <td>0</td>\n",
       "      <td>1</td>\n",
       "      <td>68557846</td>\n",
       "      <td>1</td>\n",
       "      <td>0</td>\n",
       "      <td>0</td>\n",
       "      <td>3514987.0</td>\n",
       "      <td>NaN</td>\n",
       "      <td>NaN</td>\n",
       "    </tr>\n",
       "    <tr>\n",
       "      <th>2</th>\n",
       "      <td>795522316531</td>\n",
       "      <td>795522316531</td>\n",
       "      <td>1.0</td>\n",
       "      <td>1990-07-10</td>\n",
       "      <td>2</td>\n",
       "      <td>132500000</td>\n",
       "      <td>132500000</td>\n",
       "      <td>5000000</td>\n",
       "      <td>5000000</td>\n",
       "      <td>0</td>\n",
       "      <td>...</td>\n",
       "      <td>0</td>\n",
       "      <td>0</td>\n",
       "      <td>0</td>\n",
       "      <td>0</td>\n",
       "      <td>1</td>\n",
       "      <td>0</td>\n",
       "      <td>0</td>\n",
       "      <td>3175487.0</td>\n",
       "      <td>NaN</td>\n",
       "      <td>NaN</td>\n",
       "    </tr>\n",
       "    <tr>\n",
       "      <th>3</th>\n",
       "      <td>116538004642</td>\n",
       "      <td>190144220988</td>\n",
       "      <td>2.0</td>\n",
       "      <td>1990-08-11</td>\n",
       "      <td>3</td>\n",
       "      <td>182500000</td>\n",
       "      <td>177500000</td>\n",
       "      <td>5000000</td>\n",
       "      <td>10000000</td>\n",
       "      <td>5000000</td>\n",
       "      <td>...</td>\n",
       "      <td>0</td>\n",
       "      <td>0</td>\n",
       "      <td>0</td>\n",
       "      <td>0</td>\n",
       "      <td>1</td>\n",
       "      <td>0</td>\n",
       "      <td>0</td>\n",
       "      <td>1651977.0</td>\n",
       "      <td>NaN</td>\n",
       "      <td>NaN</td>\n",
       "    </tr>\n",
       "    <tr>\n",
       "      <th>4</th>\n",
       "      <td>431583521610</td>\n",
       "      <td>431583521610</td>\n",
       "      <td>2.0</td>\n",
       "      <td>1990-06-03</td>\n",
       "      <td>1</td>\n",
       "      <td>7500000</td>\n",
       "      <td>7500000</td>\n",
       "      <td>5000000</td>\n",
       "      <td>5000000</td>\n",
       "      <td>2500000</td>\n",
       "      <td>...</td>\n",
       "      <td>0</td>\n",
       "      <td>0</td>\n",
       "      <td>0</td>\n",
       "      <td>0</td>\n",
       "      <td>1</td>\n",
       "      <td>0</td>\n",
       "      <td>0</td>\n",
       "      <td>1779764.0</td>\n",
       "      <td>NaN</td>\n",
       "      <td>NaN</td>\n",
       "    </tr>\n",
       "    <tr>\n",
       "      <th>...</th>\n",
       "      <td>...</td>\n",
       "      <td>...</td>\n",
       "      <td>...</td>\n",
       "      <td>...</td>\n",
       "      <td>...</td>\n",
       "      <td>...</td>\n",
       "      <td>...</td>\n",
       "      <td>...</td>\n",
       "      <td>...</td>\n",
       "      <td>...</td>\n",
       "      <td>...</td>\n",
       "      <td>...</td>\n",
       "      <td>...</td>\n",
       "      <td>...</td>\n",
       "      <td>...</td>\n",
       "      <td>...</td>\n",
       "      <td>...</td>\n",
       "      <td>...</td>\n",
       "      <td>...</td>\n",
       "      <td>...</td>\n",
       "      <td>...</td>\n",
       "    </tr>\n",
       "    <tr>\n",
       "      <th>1693930</th>\n",
       "      <td>372748809908</td>\n",
       "      <td>118563744389</td>\n",
       "      <td>2.0</td>\n",
       "      <td>NaN</td>\n",
       "      <td>2</td>\n",
       "      <td>0</td>\n",
       "      <td>0</td>\n",
       "      <td>0</td>\n",
       "      <td>0</td>\n",
       "      <td>0</td>\n",
       "      <td>...</td>\n",
       "      <td>0</td>\n",
       "      <td>0</td>\n",
       "      <td>0</td>\n",
       "      <td>0</td>\n",
       "      <td>0</td>\n",
       "      <td>0</td>\n",
       "      <td>0</td>\n",
       "      <td>7577197.0</td>\n",
       "      <td></td>\n",
       "      <td>NaN</td>\n",
       "    </tr>\n",
       "    <tr>\n",
       "      <th>1693931</th>\n",
       "      <td>757504619424</td>\n",
       "      <td>345144128383</td>\n",
       "      <td>2.0</td>\n",
       "      <td>2021-08-17</td>\n",
       "      <td>3</td>\n",
       "      <td>0</td>\n",
       "      <td>0</td>\n",
       "      <td>0</td>\n",
       "      <td>0</td>\n",
       "      <td>0</td>\n",
       "      <td>...</td>\n",
       "      <td>0</td>\n",
       "      <td>0</td>\n",
       "      <td>0</td>\n",
       "      <td>0</td>\n",
       "      <td>1</td>\n",
       "      <td>0</td>\n",
       "      <td>0</td>\n",
       "      <td>9174835.0</td>\n",
       "      <td></td>\n",
       "      <td>NaN</td>\n",
       "    </tr>\n",
       "    <tr>\n",
       "      <th>1693932</th>\n",
       "      <td>168450083523</td>\n",
       "      <td>167007474714</td>\n",
       "      <td>2.0</td>\n",
       "      <td>2021-09-13</td>\n",
       "      <td>4</td>\n",
       "      <td>0</td>\n",
       "      <td>0</td>\n",
       "      <td>0</td>\n",
       "      <td>0</td>\n",
       "      <td>0</td>\n",
       "      <td>...</td>\n",
       "      <td>0</td>\n",
       "      <td>0</td>\n",
       "      <td>0</td>\n",
       "      <td>0</td>\n",
       "      <td>0</td>\n",
       "      <td>0</td>\n",
       "      <td>0</td>\n",
       "      <td>7341955.0</td>\n",
       "      <td>NaN</td>\n",
       "      <td>NaN</td>\n",
       "    </tr>\n",
       "    <tr>\n",
       "      <th>1693933</th>\n",
       "      <td>198245853673</td>\n",
       "      <td>696368609462</td>\n",
       "      <td>NaN</td>\n",
       "      <td>NaN</td>\n",
       "      <td>5</td>\n",
       "      <td>0</td>\n",
       "      <td>0</td>\n",
       "      <td>0</td>\n",
       "      <td>0</td>\n",
       "      <td>0</td>\n",
       "      <td>...</td>\n",
       "      <td>0</td>\n",
       "      <td>0</td>\n",
       "      <td>0</td>\n",
       "      <td>0</td>\n",
       "      <td>0</td>\n",
       "      <td>0</td>\n",
       "      <td>0</td>\n",
       "      <td>5396133.0</td>\n",
       "      <td></td>\n",
       "      <td>NaN</td>\n",
       "    </tr>\n",
       "    <tr>\n",
       "      <th>1693934</th>\n",
       "      <td>383745352565</td>\n",
       "      <td>455214549954</td>\n",
       "      <td>2.0</td>\n",
       "      <td>2021-11-18</td>\n",
       "      <td>5</td>\n",
       "      <td>0</td>\n",
       "      <td>0</td>\n",
       "      <td>0</td>\n",
       "      <td>0</td>\n",
       "      <td>0</td>\n",
       "      <td>...</td>\n",
       "      <td>0</td>\n",
       "      <td>0</td>\n",
       "      <td>0</td>\n",
       "      <td>0</td>\n",
       "      <td>1</td>\n",
       "      <td>0</td>\n",
       "      <td>0</td>\n",
       "      <td>6145915.0</td>\n",
       "      <td>NaN</td>\n",
       "      <td>NaN</td>\n",
       "    </tr>\n",
       "  </tbody>\n",
       "</table>\n",
       "<p>1693935 rows × 65 columns</p>\n",
       "</div>"
      ],
      "text/plain": [
       "                   ID      Parentid  genderid   birthdate  Familysize  \\\n",
       "0          6935414289  624876816764       2.0  1990-07-29           5   \n",
       "1         18872613557   18872613557       1.0  1990-08-11           2   \n",
       "2        795522316531  795522316531       1.0  1990-07-10           2   \n",
       "3        116538004642  190144220988       2.0  1990-08-11           3   \n",
       "4        431583521610  431583521610       2.0  1990-06-03           1   \n",
       "...               ...           ...       ...         ...         ...   \n",
       "1693930  372748809908  118563744389       2.0         NaN           2   \n",
       "1693931  757504619424  345144128383       2.0  2021-08-17           3   \n",
       "1693932  168450083523  167007474714       2.0  2021-09-13           4   \n",
       "1693933  198245853673  696368609462       NaN         NaN           5   \n",
       "1693934  383745352565  455214549954       2.0  2021-11-18           5   \n",
       "\n",
       "         AmCrdtr_95  Amdbtr_95  frstPrd_95  lstPrd_95  SmBnft_95  ...  \\\n",
       "0           2500000    2500000     2500000    2500000    2500000  ...   \n",
       "1          65000000   62500000     5000000    5000000    2500000  ...   \n",
       "2         132500000  132500000     5000000    5000000          0  ...   \n",
       "3         182500000  177500000     5000000   10000000    5000000  ...   \n",
       "4           7500000    7500000     5000000    5000000    2500000  ...   \n",
       "...             ...        ...         ...        ...        ...  ...   \n",
       "1693930           0          0           0          0          0  ...   \n",
       "1693931           0          0           0          0          0  ...   \n",
       "1693932           0          0           0          0          0  ...   \n",
       "1693933           0          0           0          0          0  ...   \n",
       "1693934           0          0           0          0          0  ...   \n",
       "\n",
       "         IsBimePardaz_Sandoghha  IsBazneshaste_Sandoghha  \\\n",
       "0                             0                        0   \n",
       "1                             1                        0   \n",
       "2                             0                        0   \n",
       "3                             0                        0   \n",
       "4                             0                        0   \n",
       "...                         ...                      ...   \n",
       "1693930                       0                        0   \n",
       "1693931                       0                        0   \n",
       "1693932                       0                        0   \n",
       "1693933                       0                        0   \n",
       "1693934                       0                        0   \n",
       "\n",
       "         ISMaliati_Shaghel_1399  Daramad_Total_Rials  HasBimeDarman  \\\n",
       "0                             0                    0              1   \n",
       "1                             1             68557846              1   \n",
       "2                             0                    0              1   \n",
       "3                             0                    0              1   \n",
       "4                             0                    0              1   \n",
       "...                         ...                  ...            ...   \n",
       "1693930                       0                    0              0   \n",
       "1693931                       0                    0              1   \n",
       "1693932                       0                    0              0   \n",
       "1693933                       0                    0              0   \n",
       "1693934                       0                    0              1   \n",
       "\n",
       "         ISBimarKhas  IsMalool  Postalcode_7Digit  Ostan  Shahrestan  \n",
       "0                  0         0          1765655.0    NaN         NaN  \n",
       "1                  0         0          3514987.0    NaN         NaN  \n",
       "2                  0         0          3175487.0    NaN         NaN  \n",
       "3                  0         0          1651977.0    NaN         NaN  \n",
       "4                  0         0          1779764.0    NaN         NaN  \n",
       "...              ...       ...                ...    ...         ...  \n",
       "1693930            0         0          7577197.0                NaN  \n",
       "1693931            0         0          9174835.0                NaN  \n",
       "1693932            0         0          7341955.0    NaN         NaN  \n",
       "1693933            0         0          5396133.0                NaN  \n",
       "1693934            0         0          6145915.0    NaN         NaN  \n",
       "\n",
       "[1693935 rows x 65 columns]"
      ]
     },
     "execution_count": 22,
     "metadata": {},
     "output_type": "execute_result"
    }
   ],
   "source": [
    "data"
   ]
  },
  {
   "cell_type": "code",
   "execution_count": 23,
   "metadata": {},
   "outputs": [
    {
     "data": {
      "text/plain": [
       "0          2.0\n",
       "1          1.0\n",
       "2          1.0\n",
       "3          2.0\n",
       "4          2.0\n",
       "          ... \n",
       "1693930    2.0\n",
       "1693931    2.0\n",
       "1693932    2.0\n",
       "1693933    NaN\n",
       "1693934    2.0\n",
       "Name: genderid, Length: 1693935, dtype: float64"
      ]
     },
     "execution_count": 23,
     "metadata": {},
     "output_type": "execute_result"
    }
   ],
   "source": [
    "data[\"genderid\"]"
   ]
  },
  {
   "cell_type": "code",
   "execution_count": 24,
   "metadata": {},
   "outputs": [
    {
     "data": {
      "text/plain": [
       "0                  0\n",
       "1                  0\n",
       "2          967964614\n",
       "3                  0\n",
       "4                  0\n",
       "             ...    \n",
       "1693930            0\n",
       "1693931            0\n",
       "1693932            0\n",
       "1693933            0\n",
       "1693934            0\n",
       "Name: CarsPrice_Max, Length: 1693935, dtype: int64"
      ]
     },
     "execution_count": 24,
     "metadata": {},
     "output_type": "execute_result"
    }
   ],
   "source": [
    "data[\"CarsPrice_Max\"]"
   ]
  },
  {
   "cell_type": "code",
   "execution_count": 25,
   "metadata": {},
   "outputs": [
    {
     "data": {
      "text/plain": [
       "120000000000"
      ]
     },
     "execution_count": 25,
     "metadata": {},
     "output_type": "execute_result"
    }
   ],
   "source": [
    "data.loc[data['CarsPrice_Max'].idxmax()]['CarsPrice_Max']"
   ]
  },
  {
   "cell_type": "code",
   "execution_count": 26,
   "metadata": {},
   "outputs": [
    {
     "data": {
      "text/plain": [
       "22.234796494552626"
      ]
     },
     "execution_count": 26,
     "metadata": {},
     "output_type": "execute_result"
    }
   ],
   "source": [
    "len(data.loc[data['CarsPrice_Max'] >= 10000000]) / len(data) * 100"
   ]
  },
  {
   "cell_type": "code",
   "execution_count": 27,
   "metadata": {},
   "outputs": [
    {
     "data": {
      "text/plain": [
       "40000000001"
      ]
     },
     "execution_count": 27,
     "metadata": {},
     "output_type": "execute_result"
    }
   ],
   "source": [
    "data.loc[data['Loan_99'].idxmax()]['Loan_99']"
   ]
  },
  {
   "cell_type": "code",
   "execution_count": 28,
   "metadata": {},
   "outputs": [
    {
     "data": {
      "text/plain": [
       "18"
      ]
     },
     "execution_count": 28,
     "metadata": {},
     "output_type": "execute_result"
    }
   ],
   "source": [
    "data.loc[data['Familysize'].idxmax()]['Familysize']"
   ]
  },
  {
   "cell_type": "code",
   "execution_count": 29,
   "metadata": {},
   "outputs": [
    {
     "data": {
      "text/plain": [
       "18.09159983728005"
      ]
     },
     "execution_count": 29,
     "metadata": {},
     "output_type": "execute_result"
    }
   ],
   "source": [
    "data.loc[data['Daramad_Total_Rials'].idxmax()]['Daramad_Total_Rials'] / data.loc[data['Daramad_Total_Rials'] >= 100000, 'Daramad_Total_Rials'].mean()"
   ]
  },
  {
   "cell_type": "code",
   "execution_count": 30,
   "metadata": {},
   "outputs": [
    {
     "data": {
      "text/plain": [
       "51768248.10540398"
      ]
     },
     "execution_count": 30,
     "metadata": {},
     "output_type": "execute_result"
    }
   ],
   "source": [
    "data.loc[data['Daramad_Total_Rials'] >= 100000, 'Daramad_Total_Rials'].mean()"
   ]
  },
  {
   "cell_type": "code",
   "execution_count": 31,
   "metadata": {},
   "outputs": [
    {
     "data": {
      "text/plain": [
       "0          0\n",
       "2          0\n",
       "3          0\n",
       "4          0\n",
       "6          0\n",
       "          ..\n",
       "1693930    0\n",
       "1693931    0\n",
       "1693932    0\n",
       "1693933    0\n",
       "1693934    0\n",
       "Name: Daramad_Total_Rials, Length: 1236559, dtype: int64"
      ]
     },
     "execution_count": 31,
     "metadata": {},
     "output_type": "execute_result"
    }
   ],
   "source": [
    "data.loc[data['Daramad_Total_Rials'] <= 1000000][\"Daramad_Total_Rials\"]"
   ]
  },
  {
   "cell_type": "code",
   "execution_count": 32,
   "metadata": {},
   "outputs": [
    {
     "data": {
      "text/plain": [
       "22228      885165\n",
       "70040      885165\n",
       "77502      880000\n",
       "134612     885165\n",
       "152298     704285\n",
       "            ...  \n",
       "1568652    885165\n",
       "1572767    833333\n",
       "1584865    885185\n",
       "1666615    885165\n",
       "1680098    885165\n",
       "Name: Daramad_Total_Rials, Length: 83, dtype: int64"
      ]
     },
     "execution_count": 32,
     "metadata": {},
     "output_type": "execute_result"
    }
   ],
   "source": [
    "data.loc[(data['Daramad_Total_Rials'] >= 100000) & (data['Daramad_Total_Rials'] <= 1000000)][\"Daramad_Total_Rials\"]"
   ]
  },
  {
   "cell_type": "code",
   "execution_count": 33,
   "metadata": {},
   "outputs": [
    {
     "data": {
      "text/plain": [
       "ID                   168260030950\n",
       "Parentid             722416134174\n",
       "genderid                      1.0\n",
       "birthdate              1980-05-05\n",
       "Familysize                      4\n",
       "                         ...     \n",
       "ISBimarKhas                     0\n",
       "IsMalool                        0\n",
       "Postalcode_7Digit       1895664.0\n",
       "Ostan                         NaN\n",
       "Shahrestan                    NaN\n",
       "Name: 22228, Length: 65, dtype: object"
      ]
     },
     "execution_count": 33,
     "metadata": {},
     "output_type": "execute_result"
    }
   ],
   "source": [
    "data.iloc[22228]"
   ]
  },
  {
   "cell_type": "code",
   "execution_count": 34,
   "metadata": {},
   "outputs": [
    {
     "data": {
      "text/plain": [
       "0.5240626097855088"
      ]
     },
     "execution_count": 34,
     "metadata": {},
     "output_type": "execute_result"
    }
   ],
   "source": [
    "len(data.loc[data['CarsPrice_Max'] >= 10000000000]) / len(data.loc[data['CarsPrice_Max'] < 10000000000]) * 100"
   ]
  },
  {
   "cell_type": "code",
   "execution_count": 81,
   "metadata": {},
   "outputs": [
    {
     "ename": "AttributeError",
     "evalue": "module 'matplotlib.pyplot' has no attribute 'PercentFormatter'",
     "output_type": "error",
     "traceback": [
      "\u001b[0;31m---------------------------------------------------------------------------\u001b[0m",
      "\u001b[0;31mAttributeError\u001b[0m                            Traceback (most recent call last)",
      "\u001b[0;32m/tmp/ipykernel_7862/24773272.py\u001b[0m in \u001b[0;36m<module>\u001b[0;34m\u001b[0m\n\u001b[1;32m     19\u001b[0m \u001b[0;34m\u001b[0m\u001b[0m\n\u001b[1;32m     20\u001b[0m \u001b[0;31m# set y-axis to percentage\u001b[0m\u001b[0;34m\u001b[0m\u001b[0;34m\u001b[0m\u001b[0m\n\u001b[0;32m---> 21\u001b[0;31m \u001b[0mplt\u001b[0m\u001b[0;34m.\u001b[0m\u001b[0mgca\u001b[0m\u001b[0;34m(\u001b[0m\u001b[0;34m)\u001b[0m\u001b[0;34m.\u001b[0m\u001b[0myaxis\u001b[0m\u001b[0;34m.\u001b[0m\u001b[0mset_major_formatter\u001b[0m\u001b[0;34m(\u001b[0m\u001b[0mplt\u001b[0m\u001b[0;34m.\u001b[0m\u001b[0mPercentFormatter\u001b[0m\u001b[0;34m(\u001b[0m\u001b[0;36m1\u001b[0m\u001b[0;34m)\u001b[0m\u001b[0;34m)\u001b[0m\u001b[0;34m\u001b[0m\u001b[0;34m\u001b[0m\u001b[0m\n\u001b[0m\u001b[1;32m     22\u001b[0m \u001b[0;34m\u001b[0m\u001b[0m\n\u001b[1;32m     23\u001b[0m \u001b[0;31m# adjust layout\u001b[0m\u001b[0;34m\u001b[0m\u001b[0;34m\u001b[0m\u001b[0m\n",
      "\u001b[0;31mAttributeError\u001b[0m: module 'matplotlib.pyplot' has no attribute 'PercentFormatter'"
     ]
    },
    {
     "data": {
      "image/png": "[encoded data removed]",
      "text/plain": [
       "<Figure size 640x480 with 1 Axes>"
      ]
     },
     "metadata": {},
     "output_type": "display_data"
    }
   ],
   "source": [
    "import matplotlib.pyplot as plt\n",
    "import numpy as np\n",
    "from matplotlib import colors\n",
    "from matplotlib.ticker import PercentFormatter\n",
    "\n",
    "# Create a random number generator with a fixed seed for reproducibility\n",
    "n_bins = 20\n",
    "\n",
    "# Generate two normal distributions\n",
    "dist1 = data[\"Familysize\"]\n",
    "\n",
    "# create a histogram\n",
    "plt.hist(dist1, bins=n_bins, density=True)\n",
    "\n",
    "# set axis labels and title\n",
    "plt.xlabel('Data')\n",
    "plt.ylabel('Percentage')\n",
    "plt.title('Histogram with Tight Layout')\n",
    "\n",
    "# set y-axis to percentage\n",
    "plt.gca().yaxis.set_major_formatter(plt.PercentFormatter(1))\n",
    "\n",
    "# adjust layout\n",
    "plt.tight_layout()\n",
    "\n",
    "# display the plot\n",
    "plt.show()"
   ]
  },
  {
   "cell_type": "code",
   "execution_count": 45,
   "metadata": {},
   "outputs": [
    {
     "name": "stderr",
     "output_type": "stream",
     "text": [
      "/tmp/ipykernel_7862/2401297056.py:7: SettingWithCopyWarning: \n",
      "A value is trying to be set on a copy of a slice from a DataFrame.\n",
      "Try using .loc[row_indexer,col_indexer] = value instead\n",
      "\n",
      "See the caveats in the documentation: https://pandas.pydata.org/pandas-docs/stable/user_guide/indexing.html#returning-a-view-versus-a-copy\n",
      "  data['birthdate'] = pd.to_datetime(data['birthdate'], errors = 'coerce')\n",
      "/tmp/ipykernel_7862/2401297056.py:14: SettingWithCopyWarning: \n",
      "A value is trying to be set on a copy of a slice from a DataFrame.\n",
      "Try using .loc[row_indexer,col_indexer] = value instead\n",
      "\n",
      "See the caveats in the documentation: https://pandas.pydata.org/pandas-docs/stable/user_guide/indexing.html#returning-a-view-versus-a-copy\n",
      "  data['age'] = (now - data['birthdate']).astype('<m8[Y]')\n",
      "/opt/conda/lib/python3.9/site-packages/seaborn/distributions.py:1699: FutureWarning: The `bw` parameter is deprecated in favor of `bw_method` and `bw_adjust`. Using 0.5 for `bw_method`, but please see the docs for the new parameters and update your code.\n",
      "  warnings.warn(msg, FutureWarning)\n"
     ]
    },
    {
     "data": {
      "text/plain": [
       "<AxesSubplot:xlabel='age', ylabel='Density'>"
      ]
     },
     "execution_count": 45,
     "metadata": {},
     "output_type": "execute_result"
    },
    {
     "data": {
      "image/png": "[encoded data removed]",
      "text/plain": [
       "<Figure size 640x480 with 1 Axes>"
      ]
     },
     "metadata": {},
     "output_type": "display_data"
    }
   ],
   "source": [
    "import seaborn as sns\n",
    "from datetime import datetime\n",
    "\n",
    "sns.set_style('whitegrid')\n",
    "\n",
    "# Convert birthdate column to date format\n",
    "data['birthdate'] = pd.to_datetime(data['birthdate'], errors = 'coerce')\n",
    "\n",
    "# Filter out birthdates over 2023\n",
    "# data = data[data['birthdate'].dt.year <= 2023]\n",
    "\n",
    "# Calculate age based on birthdate\n",
    "now = datetime.now()\n",
    "data['age'] = (now - data['birthdate']).astype('<m8[Y]')\n",
    "\n",
    "sns.kdeplot(data[\"age\"], bw=0.5)\n"
   ]
  },
  {
   "cell_type": "code",
   "execution_count": null,
   "metadata": {},
   "outputs": [
    {
     "name": "stdout",
     "output_type": "stream",
     "text": [
      "Index(['ID', 'Parentid', 'genderid', 'birthdate', 'Familysize', 'AmCrdtr_95',\n",
      "       'Amdbtr_95', 'frstPrd_95', 'lstPrd_95', 'SmBnft_95', 'AmCrdtr_96',\n",
      "       'Amdbtr_96', 'frstPrd_96', 'lstPrd_96', 'SmBnft_96', 'AmCrdtr_97',\n",
      "       'Amdbtr_97', 'frstPrd_97', 'lstPrd_97', 'SmBnft_97', 'AmCrdtr_98',\n",
      "       'Amdbtr_98', 'frstPrd_98', 'lstPrd_98', 'SmBnft_98', 'AmCrdtr_99',\n",
      "       'Amdbtr_99', 'frstPrd_99', 'lstPrd_99', 'SmBnft_99', 'AmCrdtr_1400',\n",
      "       'Amdbtr_1400', 'frstPrd_1400', 'lstPrd_1400', 'SmBnft_1400',\n",
      "       'Card98_Percentile', 'Card99_SumMonth1To6_Percentile',\n",
      "       'Card99_SumMonth6To12_Percentile', 'Card1400_SumMonth01To06_Percentile',\n",
      "       'Card1400_SumMonth06to12_Percentile', 'Loan_99', 'Loan_1400',\n",
      "       'CarsPrice_Omoomi_Sum', 'CarsPrice_Omoomi_Max', 'CarsPrice_Omoomi_Min',\n",
      "       'Cars_Omoomi_Count', 'CarsPrice_GheyrOmoomi_Sum',\n",
      "       'CarsPrice_GheyrOmoomi_Max', 'CarsPrice_GheyrOmoomi_Min',\n",
      "       'Cars_GheyrOmoomi_Count', 'CarsPrice_Sum', 'CarsPrice_Max',\n",
      "       'CarsPrice_Min', 'HasMojavezSenfi', 'MojavezSenfi_Type',\n",
      "       'IsBimePardaz_Sandoghha', 'IsBazneshaste_Sandoghha',\n",
      "       'ISMaliati_Shaghel_1399', 'Daramad_Total_Rials', 'HasBimeDarman',\n",
      "       'ISBimarKhas', 'IsMalool', 'Postalcode_7Digit', 'Ostan', 'Shahrestan'],\n",
      "      dtype='object')\n"
     ]
    }
   ],
   "source": [
    "print(data.columns)"
   ]
  },
  {
   "cell_type": "code",
   "execution_count": 46,
   "metadata": {},
   "outputs": [
    {
     "data": {
      "image/png": "[encoded data removed]",
      "text/plain": [
       "<Figure size 640x480 with 1 Axes>"
      ]
     },
     "metadata": {},
     "output_type": "display_data"
    }
   ],
   "source": [
    "# Create a box plot for Daramad_Total_Rials column\n",
    "plt.boxplot(data['Daramad_Total_Rials'])\n",
    "\n",
    "# Set title and labels\n",
    "plt.title('Box plot of Daramad_Total_Rials')\n",
    "plt.xlabel('Daramad_Total_Rials')\n",
    "plt.ylabel('Frequency')\n",
    "\n",
    "# Show the plot\n",
    "plt.show()"
   ]
  },
  {
   "cell_type": "code",
   "execution_count": 52,
   "metadata": {},
   "outputs": [
    {
     "data": {
      "image/png": "[encoded data removed]",
      "text/plain": [
       "<Figure size 640x480 with 1 Axes>"
      ]
     },
     "metadata": {},
     "output_type": "display_data"
    }
   ],
   "source": [
    "# Create a random number generator with a fixed seed for reproducibility\n",
    "n_bins = 20\n",
    "\n",
    "# Generate two normal distributions\n",
    "dist1 = data.loc[data[\"Daramad_Total_Rials\"] > 10000][\"Daramad_Total_Rials\"] / 10000000\n",
    "\n",
    "plt.hist(dist1, weights=np.ones(len(dist1)) / len(dist1))\n",
    "\n",
    "plt.gca().yaxis.set_major_formatter(PercentFormatter(1))"
   ]
  },
  {
   "cell_type": "code",
   "execution_count": 60,
   "metadata": {},
   "outputs": [
    {
     "data": {
      "image/png": "[encoded data removed]",
      "text/plain": [
       "<Figure size 640x480 with 1 Axes>"
      ]
     },
     "metadata": {},
     "output_type": "display_data"
    }
   ],
   "source": [
    "# Create a random number generator with a fixed seed for reproducibility\n",
    "n_bins = 20\n",
    "\n",
    "# Generate two normal distributions\n",
    "scale = 10000000\n",
    "dist1 = data.loc[data[\"CarsPrice_Sum\"] > scale][\"CarsPrice_Sum\"] / scale\n",
    "\n",
    "plt.hist(dist1, weights=np.ones(len(dist1)) / len(dist1))\n",
    "\n",
    "plt.gca().yaxis.set_major_formatter(PercentFormatter(1))"
   ]
  },
  {
   "cell_type": "code",
   "execution_count": 74,
   "metadata": {},
   "outputs": [
    {
     "name": "stderr",
     "output_type": "stream",
     "text": [
      "/tmp/ipykernel_7862/3650664550.py:1: SettingWithCopyWarning: \n",
      "A value is trying to be set on a copy of a slice from a DataFrame.\n",
      "Try using .loc[row_indexer,col_indexer] = value instead\n",
      "\n",
      "See the caveats in the documentation: https://pandas.pydata.org/pandas-docs/stable/user_guide/indexing.html#returning-a-view-versus-a-copy\n",
      "  data[\"cars_normalized\"] = data[\"CarsPrice_Sum\"] / 100000000 * 0.01\n",
      "/tmp/ipykernel_7862/3650664550.py:2: SettingWithCopyWarning: \n",
      "A value is trying to be set on a copy of a slice from a DataFrame.\n",
      "Try using .loc[row_indexer,col_indexer] = value instead\n",
      "\n",
      "See the caveats in the documentation: https://pandas.pydata.org/pandas-docs/stable/user_guide/indexing.html#returning-a-view-versus-a-copy\n",
      "  data[\"daramad_normalized\"] = data[\"Daramad_Total_Rials\"] / 10000000 * 0.01\n",
      "/tmp/ipykernel_7862/3650664550.py:4: SettingWithCopyWarning: \n",
      "A value is trying to be set on a copy of a slice from a DataFrame.\n",
      "Try using .loc[row_indexer,col_indexer] = value instead\n",
      "\n",
      "See the caveats in the documentation: https://pandas.pydata.org/pandas-docs/stable/user_guide/indexing.html#returning-a-view-versus-a-copy\n",
      "  data[\"group\"] = pd.cut(data[['Familysize', 'cars_normalized', 'daramad_normalized']].sum(axis=1), 10, labels=False)\n"
     ]
    },
    {
     "data": {
      "image/png": "[encoded data removed]",
      "text/plain": [
       "<Figure size 640x480 with 1 Axes>"
      ]
     },
     "metadata": {},
     "output_type": "display_data"
    }
   ],
   "source": [
    "data[\"cars_normalized\"] = data[\"CarsPrice_Sum\"] / 100000000 * 0.01\n",
    "data[\"daramad_normalized\"] = data[\"Daramad_Total_Rials\"] / 10000000 * 0.01\n",
    "# create a new column that assigns each individual to a group, based on the three chosen variables\n",
    "data[\"group\"] = pd.cut(data[['Familysize', 'cars_normalized', 'daramad_normalized']].sum(axis=1), 10, labels=False)\n",
    "\n",
    "#print(data.loc[data[\"group\"] > 8][\"group\"])\n",
    "\n",
    "# count the number of individuals in each group\n",
    "group_counts = data.groupby(\"group\").size()\n",
    "\n",
    "# create a bar plot that shows the number of individuals in each group\n",
    "plt.bar(range(1, 11), group_counts.values)\n",
    "plt.xlabel(\"Group\")\n",
    "plt.ylabel(\"Count\")\n",
    "plt.title(\"Group Assignments based on Familysize, genderid, and carsprice_sum\")\n",
    "plt.show()"
   ]
  },
  {
   "cell_type": "code",
   "execution_count": 75,
   "metadata": {},
   "outputs": [
    {
     "data": {
      "text/plain": [
       "group\n",
       "0    713099\n",
       "1    833735\n",
       "2    113074\n",
       "3      5876\n",
       "4      1722\n",
       "5       199\n",
       "6        58\n",
       "7        41\n",
       "8         3\n",
       "9         3\n",
       "dtype: int64"
      ]
     },
     "execution_count": 75,
     "metadata": {},
     "output_type": "execute_result"
    }
   ],
   "source": [
    "data.groupby(\"group\").size()"
   ]
  },
  {
   "cell_type": "code",
   "execution_count": null,
   "metadata": {},
   "outputs": [],
   "source": []
  }
 ],
 "metadata": {
  "kernelspec": {
   "display_name": "base",
   "language": "python",
   "name": "python3"
  },
  "language_info": {
   "codemirror_mode": {
    "name": "ipython",
    "version": 3
   },
   "file_extension": ".py",
   "mimetype": "text/x-python",
   "name": "python",
   "nbconvert_exporter": "python",
   "pygments_lexer": "ipython3",
   "version": "3.9.13"
  },
  "orig_nbformat": 4
 },
 "nbformat": 4,
 "nbformat_minor": 2
}
